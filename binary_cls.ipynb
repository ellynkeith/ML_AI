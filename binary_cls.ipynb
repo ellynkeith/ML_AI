{
 "cells": [
  {
   "cell_type": "code",
   "execution_count": 169,
   "id": "5c1cb5a5-af79-4c1b-b854-94c8fff0b6ee",
   "metadata": {},
   "outputs": [],
   "source": [
    "import pandas as pd\n",
    "import seaborn as sns"
   ]
  },
  {
   "cell_type": "code",
   "execution_count": 170,
   "id": "ba3a4798-ec4a-4926-9c5a-6563e0726997",
   "metadata": {},
   "outputs": [
    {
     "name": "stderr",
     "output_type": "stream",
     "text": [
      "/var/folders/0w/pvg4kzqx7757341_gst5jz6h0000gp/T/ipykernel_44231/819498577.py:2: DtypeWarning: Columns (46) have mixed types. Specify dtype option on import or set low_memory=False.\n",
      "  data = pd.read_csv('data/LoanStats3a.csv')\n"
     ]
    }
   ],
   "source": [
    "# read in data and take some initial looks\n",
    "data = pd.read_csv('data/LoanStats3a.csv')"
   ]
  },
  {
   "cell_type": "code",
   "execution_count": 171,
   "id": "27c2b2ff-32b8-4b62-b8f1-d283b78977b0",
   "metadata": {},
   "outputs": [
    {
     "data": {
      "text/plain": [
       "(42538, 144)"
      ]
     },
     "execution_count": 171,
     "metadata": {},
     "output_type": "execute_result"
    }
   ],
   "source": [
    "data.shape"
   ]
  },
  {
   "cell_type": "code",
   "execution_count": 172,
   "id": "c029511c-9902-4d1d-a423-00347ab575c3",
   "metadata": {},
   "outputs": [],
   "source": [
    "TARGET_VAR = 'loan_status'"
   ]
  },
  {
   "cell_type": "code",
   "execution_count": 173,
   "id": "f3702078-a0e8-4067-907d-a8d5c7906c39",
   "metadata": {},
   "outputs": [
    {
     "data": {
      "text/plain": [
       "<Axes: xlabel='loan_status', ylabel='Count'>"
      ]
     },
     "execution_count": 173,
     "metadata": {},
     "output_type": "execute_result"
    },
    {
     "data": {
      "image/png": "[encoded data removed]",
      "text/plain": [
       "<Figure size 640x480 with 1 Axes>"
      ]
     },
     "metadata": {},
     "output_type": "display_data"
    }
   ],
   "source": [
    "sns.histplot(data[TARGET_VAR])"
   ]
  },
  {
   "cell_type": "markdown",
   "id": "37249cb3-9578-41c1-b44a-65561c9a9e95",
   "metadata": {
    "jp-MarkdownHeadingCollapsed": true
   },
   "source": [
    "Start by inspecting target variable. We are looking to determine whether or not the loan is expected to be paid off, so we can binarize these into \"Fully Paid\" and everything else. Let's inspect the data a bit more."
   ]
  },
  {
   "cell_type": "code",
   "execution_count": 174,
   "id": "f06a8387-3223-4c30-9db1-f34918a36fdd",
   "metadata": {},
   "outputs": [
    {
     "name": "stdout",
     "output_type": "stream",
     "text": [
      "CATEGORICALS: 29\n",
      "['addr_state', 'application_type', 'debt_settlement_flag', 'debt_settlement_flag_date', 'desc', 'disbursement_method', 'earliest_cr_line', 'emp_length', 'emp_title', 'grade', 'hardship_flag', 'home_ownership', 'initial_list_status', 'int_rate', 'issue_d', 'last_credit_pull_d', 'last_pymnt_d', 'loan_status', 'next_pymnt_d', 'purpose', 'pymnt_plan', 'revol_util', 'settlement_date', 'settlement_status', 'sub_grade', 'term', 'title', 'verification_status', 'zip_code']\n",
      "NUMERIC: 115\n",
      "['acc_now_delinq', 'acc_open_past_24mths', 'all_util', 'annual_inc', 'annual_inc_joint', 'avg_cur_bal', 'bc_open_to_buy', 'bc_util', 'chargeoff_within_12_mths', 'collection_recovery_fee', 'collections_12_mths_ex_med', 'deferral_term', 'delinq_2yrs', 'delinq_amnt', 'dti', 'dti_joint', 'funded_amnt', 'funded_amnt_inv', 'hardship_amount', 'hardship_dpd', 'hardship_end_date', 'hardship_last_payment_amount', 'hardship_length', 'hardship_loan_status', 'hardship_payoff_balance_amount', 'hardship_reason', 'hardship_start_date', 'hardship_status', 'hardship_type', 'il_util', 'inq_fi', 'inq_last_12m', 'inq_last_6mths', 'installment', 'last_pymnt_amnt', 'loan_amnt', 'max_bal_bc', 'member_id', 'mo_sin_old_il_acct', 'mo_sin_old_rev_tl_op', 'mo_sin_rcnt_rev_tl_op', 'mo_sin_rcnt_tl', 'mort_acc', 'mths_since_last_delinq', 'mths_since_last_major_derog', 'mths_since_last_record', 'mths_since_rcnt_il', 'mths_since_recent_bc', 'mths_since_recent_bc_dlq', 'mths_since_recent_inq', 'mths_since_recent_revol_delinq', 'num_accts_ever_120_pd', 'num_actv_bc_tl', 'num_actv_rev_tl', 'num_bc_sats', 'num_bc_tl', 'num_il_tl', 'num_op_rev_tl', 'num_rev_accts', 'num_rev_tl_bal_gt_0', 'num_sats', 'num_tl_120dpd_2m', 'num_tl_30dpd', 'num_tl_90g_dpd_24m', 'num_tl_op_past_12m', 'open_acc', 'open_acc_6m', 'open_act_il', 'open_il_12m', 'open_il_24m', 'open_rv_12m', 'open_rv_24m', 'orig_projected_additional_accrued_interest', 'out_prncp', 'out_prncp_inv', 'payment_plan_start_date', 'pct_tl_nvr_dlq', 'percent_bc_gt_75', 'policy_code', 'pub_rec', 'pub_rec_bankruptcies', 'recoveries', 'revol_bal', 'revol_bal_joint', 'sec_app_chargeoff_within_12_mths', 'sec_app_collections_12_mths_ex_med', 'sec_app_earliest_cr_line', 'sec_app_inq_last_6mths', 'sec_app_mort_acc', 'sec_app_mths_since_last_major_derog', 'sec_app_num_rev_accts', 'sec_app_open_acc', 'sec_app_open_act_il', 'sec_app_revol_util', 'settlement_amount', 'settlement_percentage', 'settlement_term', 'tax_liens', 'tot_coll_amt', 'tot_cur_bal', 'tot_hi_cred_lim', 'total_acc', 'total_bal_ex_mort', 'total_bal_il', 'total_bc_limit', 'total_cu_tl', 'total_il_high_credit_limit', 'total_pymnt', 'total_pymnt_inv', 'total_rec_int', 'total_rec_late_fee', 'total_rec_prncp', 'total_rev_hi_lim', 'url', 'verification_status_joint']\n"
     ]
    }
   ],
   "source": [
    "categorical_features = [x for x in data.dtypes.keys() if data.dtypes[x] == object]\n",
    "numeric_features = [col for col in data.columns if pd.api.types.is_numeric_dtype(data[col])]\n",
    "print(f'CATEGORICALS: {len(categorical_features)}')\n",
    "print(sorted(categorical_features))\n",
    "print(f'NUMERIC: {len(numeric_features)}')\n",
    "print(sorted(numeric_features))"
   ]
  },
  {
   "cell_type": "code",
   "execution_count": 175,
   "id": "dd8058a2-507a-402c-958a-e9b4825e22ce",
   "metadata": {
    "scrolled": true
   },
   "outputs": [
    {
     "name": "stdout",
     "output_type": "stream",
     "text": [
      "TERM\n",
      "count          42535\n",
      "unique             2\n",
      "top        36 months\n",
      "freq           31534\n",
      "Name: term, dtype: object\n",
      "INT_RATE\n",
      "count      42535\n",
      "unique       394\n",
      "top       10.99%\n",
      "freq         970\n",
      "Name: int_rate, dtype: object\n",
      "GRADE\n",
      "count     42535\n",
      "unique        7\n",
      "top           B\n",
      "freq      12389\n",
      "Name: grade, dtype: object\n",
      "SUB_GRADE\n",
      "count     42535\n",
      "unique       35\n",
      "top          B3\n",
      "freq       2997\n",
      "Name: sub_grade, dtype: object\n",
      "EMP_TITLE\n",
      "count       39909\n",
      "unique      30658\n",
      "top       US Army\n",
      "freq          139\n",
      "Name: emp_title, dtype: object\n",
      "EMP_LENGTH\n",
      "count         41423\n",
      "unique           11\n",
      "top       10+ years\n",
      "freq           9369\n",
      "Name: emp_length, dtype: object\n",
      "HOME_OWNERSHIP\n",
      "count     42535\n",
      "unique        5\n",
      "top        RENT\n",
      "freq      20181\n",
      "Name: home_ownership, dtype: object\n",
      "VERIFICATION_STATUS\n",
      "count            42535\n",
      "unique               3\n",
      "top       Not Verified\n",
      "freq             18758\n",
      "Name: verification_status, dtype: object\n",
      "ISSUE_D\n",
      "count      42535\n",
      "unique        55\n",
      "top       Dec-11\n",
      "freq        2267\n",
      "Name: issue_d, dtype: object\n",
      "LOAN_STATUS\n",
      "count          42535\n",
      "unique             4\n",
      "top       Fully Paid\n",
      "freq           34116\n",
      "Name: loan_status, dtype: object\n",
      "PYMNT_PLAN\n",
      "count     42535\n",
      "unique        1\n",
      "top           n\n",
      "freq      42535\n",
      "Name: pymnt_plan, dtype: object\n",
      "DESC\n",
      "count     29240\n",
      "unique    28962\n",
      "top            \n",
      "freq        225\n",
      "Name: desc, dtype: object\n",
      "PURPOSE\n",
      "count                  42535\n",
      "unique                    14\n",
      "top       debt_consolidation\n",
      "freq                   19776\n",
      "Name: purpose, dtype: object\n",
      "TITLE\n",
      "count                  42522\n",
      "unique                 21256\n",
      "top       Debt Consolidation\n",
      "freq                    2259\n",
      "Name: title, dtype: object\n",
      "ZIP_CODE\n",
      "count     42535\n",
      "unique      837\n",
      "top       100xx\n",
      "freq        649\n",
      "Name: zip_code, dtype: object\n",
      "ADDR_STATE\n",
      "count     42535\n",
      "unique       50\n",
      "top          CA\n",
      "freq       7429\n",
      "Name: addr_state, dtype: object\n",
      "EARLIEST_CR_LINE\n",
      "count      42506\n",
      "unique       530\n",
      "top       Oct-99\n",
      "freq         393\n",
      "Name: earliest_cr_line, dtype: object\n",
      "REVOL_UTIL\n",
      "count     42445\n",
      "unique     1119\n",
      "top          0%\n",
      "freq       1070\n",
      "Name: revol_util, dtype: object\n",
      "INITIAL_LIST_STATUS\n",
      "count     42535\n",
      "unique        1\n",
      "top           f\n",
      "freq      42535\n",
      "Name: initial_list_status, dtype: object\n",
      "LAST_PYMNT_D\n",
      "count      42452\n",
      "unique       112\n",
      "top       Mar-13\n",
      "freq        1070\n",
      "Name: last_pymnt_d, dtype: object\n",
      "NEXT_PYMNT_D\n",
      "count       2749\n",
      "unique        98\n",
      "top       Mar-11\n",
      "freq         107\n",
      "Name: next_pymnt_d, dtype: object\n",
      "LAST_CREDIT_PULL_D\n",
      "count      42531\n",
      "unique       132\n",
      "top       Jul-18\n",
      "freq        9363\n",
      "Name: last_credit_pull_d, dtype: object\n",
      "APPLICATION_TYPE\n",
      "count          42535\n",
      "unique             1\n",
      "top       Individual\n",
      "freq           42535\n",
      "Name: application_type, dtype: object\n",
      "HARDSHIP_FLAG\n",
      "count     42535\n",
      "unique        1\n",
      "top           N\n",
      "freq      42535\n",
      "Name: hardship_flag, dtype: object\n",
      "DISBURSEMENT_METHOD\n",
      "count     42535\n",
      "unique        1\n",
      "top        Cash\n",
      "freq      42535\n",
      "Name: disbursement_method, dtype: object\n",
      "DEBT_SETTLEMENT_FLAG\n",
      "count     42535\n",
      "unique        2\n",
      "top           N\n",
      "freq      42375\n",
      "Name: debt_settlement_flag, dtype: object\n",
      "DEBT_SETTLEMENT_FLAG_DATE\n",
      "count        160\n",
      "unique        62\n",
      "top       Jun-17\n",
      "freq          18\n",
      "Name: debt_settlement_flag_date, dtype: object\n",
      "SETTLEMENT_STATUS\n",
      "count          160\n",
      "unique           3\n",
      "top       COMPLETE\n",
      "freq           141\n",
      "Name: settlement_status, dtype: object\n",
      "SETTLEMENT_DATE\n",
      "count        160\n",
      "unique        61\n",
      "top       Oct-13\n",
      "freq           8\n",
      "Name: settlement_date, dtype: object\n"
     ]
    }
   ],
   "source": [
    "for cat in categorical_features:\n",
    "    print(cat.upper())\n",
    "    print(data[cat].describe())"
   ]
  },
  {
   "cell_type": "markdown",
   "id": "9b5af345-c05a-4eb7-aa07-f664de4c18b5",
   "metadata": {},
   "source": [
    "We have some categorical and many numeric features. After inspecting the data, we find that we need to convert some categoricals to either binary or numeric. We will one-hot-encode any categorical features that have only a small number of classes. Lastly, we'll drop any remaining features that have very few classes or are largely NaN. "
   ]
  },
  {
   "cell_type": "code",
   "execution_count": 176,
   "id": "3eb5563b-67ef-42f4-8243-8a4af2c7f5f9",
   "metadata": {},
   "outputs": [
    {
     "data": {
      "text/plain": [
       "(42535, 35)"
      ]
     },
     "execution_count": 176,
     "metadata": {},
     "output_type": "execute_result"
    }
   ],
   "source": [
    "DROP = ['member_id'] # We will definitely drop member id, add more to this list as we go\n",
    "# take only instances that aren't missing target var\n",
    "data = data[data[TARGET_VAR].notna()].copy()\n",
    "# replace NaN with 0\n",
    "data.fillna(0, inplace=True)\n",
    "\n",
    "# Convert target vars to 0 and 1\n",
    "data['loan_status'] = data['loan_status'].apply(lambda x: 1 if x == 'Fully Paid' else 0)\n",
    "\n",
    "# convert Y/N to 0 and 1\n",
    "data['debt_settlement_flag'] = data['debt_settlement_flag'].apply(lambda x: 1 if x == 'Y' else 0)\n",
    "\n",
    "# Convert percentage strings to floats\n",
    "for var in ['revol_util', 'int_rate']:\n",
    "    data[var] = data[var].apply(lambda x: float(str(x).replace('%', '')))\n",
    "\n",
    "# Convert \"N months\" to int\n",
    "data['term'] = data['term'].apply(lambda x: int(str(x).replace(' months', '')))\n",
    "\n",
    "# Convert letter grade to numeric\n",
    "letter_mapping = {n: i for i, n in enumerate(list('ABCDEFG'))}\n",
    "data['grade'] = data['grade'].apply(lambda x: letter_mapping[x])\n",
    "\n",
    "# Engineer some more features that could be helpful\n",
    "data['diff_installment_last_pymnt'] = data['installment'] - data['last_pymnt_amnt'] # difference between monthly installent amount and amount paid\n",
    "data['total_repayment_amnt'] = data['installment'] * data['term'] # total amount to be repaid\n",
    "data['fund_amt_per_month'] = data['funded_amnt'] / data['term'] # amount loaned broken down by month\n",
    "\n",
    "for f in data.columns:\n",
    "    if data[f].value_counts().shape[0] == 1:\n",
    "        DROP.append(f)\n",
    "\n",
    "# and then a couple others that had very few classes or data was missing for the vast majority of instances\n",
    "DROP.extend(\n",
    "    [\n",
    "        'tax_liens', \n",
    "        'delinq_amnt', \n",
    "        'settlement_date', \n",
    "        'debt_settlement_flag_date', \n",
    "        'settlement_status', \n",
    "        'verification_status'\n",
    "    ]\n",
    ")\n",
    "# Next payment date seems irrelevant for predicting loan default\n",
    "DROP.append('next_pymnt_d')\n",
    "\n",
    "# Drop other categorical variables for now--we'll return to them later\n",
    "DROP.extend(\n",
    "    [\n",
    "        'last_credit_pull_d', \n",
    "        'last_pymnt_d', \n",
    "        'earliest_cr_line', \n",
    "        'issue_d', \n",
    "        'desc',\n",
    "        'home_ownership',\n",
    "        'purpose',\n",
    "        'settlement_status',\n",
    "        'verification_status',\n",
    "        'addr_state',\n",
    "        'zip_code',\n",
    "        'emp_length',\n",
    "        'emp_title',\n",
    "        'sub_grade',\n",
    "        'title'\n",
    "    ]\n",
    ")\n",
    "\n",
    "target = data[TARGET_VAR]\n",
    "df = data.loc[:,list(set(data.columns) - set(DROP + [TARGET_VAR]))]\n",
    "\n",
    "df.shape"
   ]
  },
  {
   "cell_type": "markdown",
   "id": "849b7ade-2a7a-475e-8227-effb9a42f383",
   "metadata": {},
   "source": [
    "Now let's try training the model so we can look at some residuals."
   ]
  },
  {
   "cell_type": "code",
   "execution_count": 180,
   "id": "68bf99ea-6a0c-4609-93ed-20de576468a6",
   "metadata": {},
   "outputs": [
    {
     "name": "stdout",
     "output_type": "stream",
     "text": [
      "              precision    recall  f1-score   support\n",
      "\n",
      "           0       0.97      0.79      0.87      1611\n",
      "           1       0.95      1.00      0.97      6896\n",
      "\n",
      "    accuracy                           0.96      8507\n",
      "   macro avg       0.96      0.89      0.92      8507\n",
      "weighted avg       0.96      0.96      0.95      8507\n",
      "\n"
     ]
    },
    {
     "name": "stderr",
     "output_type": "stream",
     "text": [
      "/Users/ellynkeith/PycharmProjects/ML_AI/.venv/lib/python3.9/site-packages/sklearn/linear_model/_logistic.py:465: ConvergenceWarning: lbfgs failed to converge (status=1):\n",
      "STOP: TOTAL NO. of ITERATIONS REACHED LIMIT.\n",
      "\n",
      "Increase the number of iterations (max_iter) or scale the data as shown in:\n",
      "    https://scikit-learn.org/stable/modules/preprocessing.html\n",
      "Please also refer to the documentation for alternative solver options:\n",
      "    https://scikit-learn.org/stable/modules/linear_model.html#logistic-regression\n",
      "  n_iter_i = _check_optimize_result(\n"
     ]
    }
   ],
   "source": [
    "from sklearn.model_selection import train_test_split, cross_val_score\n",
    "from sklearn.linear_model import LogisticRegression, RidgeClassifier\n",
    "from sklearn.metrics import classification_report\n",
    "\n",
    "X = df.values\n",
    "y = target.values\n",
    "\n",
    "X_train, X_test, y_train, y_test = train_test_split(X, y, test_size=0.2, random_state=43)\n",
    "\n",
    "clf = LogisticRegression()\n",
    "clf.fit(X_train, y_train)\n",
    "print(classification_report(y_test, clf.predict(X_test)))"
   ]
  },
  {
   "cell_type": "markdown",
   "id": "9cb1a215-ae74-4d37-aba9-b7838e65c714",
   "metadata": {},
   "source": [
    "Accuracy is excellent. Recall, not so much. Also, we had a convergence failure. Let's look at the residuals and some goodness-of-fit metrics to see if we can discover anything."
   ]
  },
  {
   "cell_type": "code",
   "execution_count": 119,
   "id": "082ff38d-7506-4453-b151-798c36f008b4",
   "metadata": {},
   "outputs": [],
   "source": [
    "from sklearn.metrics import mean_squared_error\n",
    "from scipy import stats\n",
    "import numpy as np\n",
    "\n",
    "def gof(residuals, y_pred, X, y):\n",
    "    # Number of observations and number of predictors\n",
    "    n = len(y)\n",
    "    p = X.shape[1]\n",
    "\n",
    "    # MSE\n",
    "    mse = mean_squared_error(y, y_pred)\n",
    "\n",
    "    # Chi-Square\n",
    "    # Assuming homoscedastic residuals (normal distribution of errors)\n",
    "    chi_square = np.sum((residuals ** 2) / y_pred)\n",
    "\n",
    "    # AIC = 2k - 2ln(L)\n",
    "    # Where k is the number of parameters (p + 1 for intercept)\n",
    "    # L is the likelihood of the model\n",
    "    rss = np.sum(residuals ** 2)\n",
    "    sse = rss / n\n",
    "    aic = n * np.log(sse) + 2 * (p + 1)\n",
    "\n",
    "    # BIC = k * ln(n) - 2ln(L)\n",
    "    bic = n * np.log(sse) + (p + 1) * np.log(n)\n",
    "\n",
    "    # F-statistic\n",
    "    ssr = np.sum((y_pred - np.mean(y)) ** 2)  # Regression sum of squares\n",
    "    f_stat = (ssr / p) / (rss / (n - p - 1))\n",
    "\n",
    "    return {\n",
    "        'Mean Squared Error': mse,\n",
    "        'Chi-Square': chi_square,\n",
    "        'AIC': aic,\n",
    "        'BIC': bic,\n",
    "        'F-statistic': f_stat\n",
    "    }"
   ]
  },
  {
   "cell_type": "code",
   "execution_count": 159,
   "id": "ae50668a-4bf4-4ca9-abf8-54b3d385f963",
   "metadata": {},
   "outputs": [
    {
     "name": "stdout",
     "output_type": "stream",
     "text": [
      "{'AIC': np.float64(-132890.42404139464),\n",
      " 'BIC': np.float64(-132578.73306975988),\n",
      " 'Chi-Square': np.float64(112051086.72000307),\n",
      " 'F-statistic': np.float64(3256.390363220735),\n",
      " 'Mean Squared Error': 0.04389506806325174}\n"
     ]
    }
   ],
   "source": [
    "y_pred = clf.predict_proba(X)[:, 1]\n",
    "residuals = y - y_pred\n",
    "\n",
    "import pprint\n",
    "pprint.pprint(gof(residuals, y_pred, X, y))"
   ]
  },
  {
   "cell_type": "markdown",
   "id": "f357fc0e-0e82-48b1-b023-711037ff049b",
   "metadata": {},
   "source": [
    "MSE is low and F-statistic is high--so that's good. Let's look at a plot of the residuals. "
   ]
  },
  {
   "cell_type": "code",
   "execution_count": 160,
   "id": "3b38d2db-fdf0-46cd-8afb-458b7b054aec",
   "metadata": {},
   "outputs": [
    {
     "data": {
      "image/png": "[encoded data removed]",
      "text/plain": [
       "<Figure size 640x480 with 1 Axes>"
      ]
     },
     "metadata": {},
     "output_type": "display_data"
    }
   ],
   "source": [
    "sns.histplot(residuals)\n",
    "plt.show()"
   ]
  },
  {
   "cell_type": "markdown",
   "id": "da4dec5c-5ee4-43e0-9f03-f317aad25dd1",
   "metadata": {},
   "source": [
    "We have a right tail skew and a small bump between -0.75 and -1.0. Let's look at our correlation coefficients to see if we can be informed by them to reduce noise."
   ]
  },
  {
   "cell_type": "code",
   "execution_count": 162,
   "id": "ef8db6ed-a93f-4e51-b7bb-30e2f9c04bfd",
   "metadata": {},
   "outputs": [
    {
     "name": "stdout",
     "output_type": "stream",
     "text": [
      "                        feature          coef\n",
      "34              total_rec_prncp  4.178596e-03\n",
      "17                  funded_amnt -3.919945e-03\n",
      "32                total_rec_int -2.153732e-03\n",
      "4               total_pymnt_inv  1.530461e-03\n",
      "5               funded_amnt_inv -1.446847e-03\n",
      "20                   recoveries -1.287588e-03\n",
      "2             settlement_amount -6.996584e-04\n",
      "10                  installment -6.954983e-04\n",
      "0                   total_pymnt  6.802308e-04\n",
      "15           fund_amt_per_month -5.616476e-04\n",
      "28         total_repayment_amnt -5.542515e-04\n",
      "23                   revol_util  5.043356e-04\n",
      "3                          term  4.478282e-04\n",
      "30  diff_installment_last_pymnt -3.627818e-04\n",
      "7               last_pymnt_amnt -3.327165e-04\n",
      "13      collection_recovery_fee -2.013208e-04\n",
      "31                    total_acc  1.277569e-04\n",
      "14                          dti  1.273831e-04\n",
      "24       mths_since_last_delinq  6.802377e-05\n",
      "6                      int_rate  6.706443e-05\n",
      "16               inq_last_6mths -6.527429e-05\n",
      "33                     open_acc  6.001242e-05\n",
      "1            total_rec_late_fee -5.704649e-05\n",
      "21                    revol_bal -3.148226e-05\n",
      "25       mths_since_last_record -2.039442e-05\n",
      "18                   annual_inc  1.636995e-05\n",
      "8         settlement_percentage -1.336425e-05\n",
      "12                        grade -1.259878e-05\n",
      "9                     loan_amnt  4.946986e-06\n",
      "27                      pub_rec -5.992484e-07\n",
      "11                  delinq_2yrs -4.494842e-07\n",
      "19              settlement_term -3.440696e-07\n",
      "29         debt_settlement_flag -2.187936e-07\n",
      "26         pub_rec_bankruptcies -3.575776e-08\n",
      "22               acc_now_delinq -3.118489e-08\n"
     ]
    }
   ],
   "source": [
    "print(pd.DataFrame({\n",
    "    'feature': df.columns,\n",
    "    'coef': clf.coef_[0]\n",
    "}).sort_values(by='coef', key=abs, ascending=False))"
   ]
  },
  {
   "cell_type": "markdown",
   "id": "31d5f3a8-c214-4e0b-8e32-6a2f46ae966a",
   "metadata": {},
   "source": [
    "All the coefficients are pretty small. This suggests that we may have features that need scaling. Also, we dropped quite a few categorical features--maybe left a lot of signal on the cutting room floor."
   ]
  },
  {
   "cell_type": "code",
   "execution_count": 82,
   "id": "6327ee4d-fd4a-495e-82e6-832771ddcb8f",
   "metadata": {},
   "outputs": [
    {
     "data": {
      "text/plain": [
       "pandas.core.series.Series"
      ]
     },
     "execution_count": 82,
     "metadata": {},
     "output_type": "execute_result"
    }
   ],
   "source": [
    "type(correlations)"
   ]
  },
  {
   "cell_type": "markdown",
   "id": "5c44f795-b9af-4980-9348-aa0cfad7a454",
   "metadata": {},
   "source": [
    "Featurize data and check target distribution again"
   ]
  },
  {
   "cell_type": "code",
   "execution_count": null,
   "id": "8e71ed2a-ff00-4294-8756-3c3feaba1fb2",
   "metadata": {},
   "outputs": [],
   "source": [
    "def prep_data(data):\n",
    "  # Drop any features that have only 1 value\n",
    "  for f in data.columns:\n",
    "    if data[f].value_counts().shape[0] == 1:\n",
    "      DROP.append(f)\n",
    "\n",
    "  # and then a couple others that had very few classes or data was missing for the vast majority of instances\n",
    "  DROP.extend(['tax_liens', 'delinq_amnt', 'settlement_date', 'debt_settlement_flag_date'])\n",
    "  # and the ones that kinda give away the game\n",
    "  # DROP.extend(['recoveries', 'total_pymnt', 'total_pymnt_inv', 'total_rec_prncp'])\n",
    "  # and one that doesn't really make sense -- next payment date not relevant\n",
    "  DROP.append('next_pymnt_d')\n",
    "  # and then dates for now because they present an interpolation problem I'll have to come back to\n",
    "  DROP.extend(['last_credit_pull_d', 'last_pymnt_d', 'earliest_cr_line', 'issue_d'])\n",
    "\n",
    "  DROP.extend([\n",
    "    'sub_grade',\n",
    "    'emp_title',\n",
    "    'issue_d',\n",
    "    'title',\n",
    "    'zip_code',\n",
    "    'addr_state',\n",
    "    'settlement_status'\n",
    "  ])\n",
    "\n",
    "  coefs_0 = [0,\n",
    "    'int_rate',\n",
    "    'educational',\n",
    "    '7 years',\n",
    "    'pub_rec',\n",
    "    'NONE',\n",
    "    'grade',\n",
    "    'moving',\n",
    "    '6 years',\n",
    "    'inq_last_6mths',\n",
    "    'renewable_energy',\n",
    "    'debt_consolidation',\n",
    "    'revol_bal',\n",
    "    'acc_now_delinq',\n",
    "    'home_improvement',\n",
    "    'house',\n",
    "    'major_purchase',\n",
    "    'annual_inc',\n",
    "    'Source Verified',\n",
    "    '5 years',\n",
    "    '8 years',\n",
    "    'wedding',\n",
    "    'credit_card',\n",
    "    '9 years',\n",
    "    'loan_amnt',\n",
    "    'settlement_term',\n",
    "    'RENT',\n",
    "    'medical',\n",
    "    'small_business',\n",
    "    '10+ years',\n",
    "    'car',\n",
    "    'funded_amnt_inv',\n",
    "    '< 1 year',\n",
    "    '4 years',\n",
    "    'debt_settlement_flag',\n",
    "    'OWN',\n",
    "    'Verified',\n",
    "    'other',\n",
    "    'MORTGAGE',\n",
    "    '2 years',\n",
    "    'OTHER',\n",
    "    'Not Verified',\n",
    "    'delinq_2yrs',\n",
    "    '3 years',\n",
    "    'pub_rec_bankruptcies',\n",
    "    '1 year',\n",
    "    'vacation'\n",
    "  ]\n",
    "\n",
    "  DROP.extend(coefs_0)\n",
    "\n",
    "  return data.loc[:,list(set(data.columns) - set(DROP))]"
   ]
  },
  {
   "cell_type": "code",
   "execution_count": null,
   "id": "e778d901-4ef4-46b7-be94-f08bbd6eba46",
   "metadata": {},
   "outputs": [],
   "source": [
    "DROP = list()\n"
   ]
  }
 ],
 "metadata": {
  "kernelspec": {
   "display_name": "Python 3 (ipykernel)",
   "language": "python",
   "name": "python3"
  },
  "language_info": {
   "codemirror_mode": {
    "name": "ipython",
    "version": 3
   },
   "file_extension": ".py",
   "mimetype": "text/x-python",
   "name": "python",
   "nbconvert_exporter": "python",
   "pygments_lexer": "ipython3",
   "version": "3.9.6"
  }
 },
 "nbformat": 4,
 "nbformat_minor": 5
}
